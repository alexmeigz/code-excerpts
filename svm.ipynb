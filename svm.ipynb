{
  "nbformat": 4,
  "nbformat_minor": 0,
  "metadata": {
    "colab": {
      "name": "CS165B HW5.ipynb",
      "provenance": [],
      "collapsed_sections": []
    },
    "kernelspec": {
      "name": "python3",
      "display_name": "Python 3"
    },
    "language_info": {
      "name": "python"
    }
  },
  "cells": [
    {
      "cell_type": "markdown",
      "metadata": {
        "id": "NfjT2ODkQktd"
      },
      "source": [
        "Alex Mei \\\\\n",
        "CS 165B \\\\\n",
        "Fall 2021 \\\\"
      ]
    },
    {
      "cell_type": "code",
      "metadata": {
        "id": "2WlfTFv1Qdur"
      },
      "source": [
        "# Imports\n",
        "import numpy as np\n",
        "import numpy.linalg as npla\n",
        "import matplotlib.pyplot as plt\n",
        "import matplotlib.patches as mpatches\n",
        "from cvxopt import matrix, solvers\n",
        "import random\n",
        "import math\n",
        "import time\n",
        "\n",
        "solvers.options['show_progress'] = False"
      ],
      "execution_count": null,
      "outputs": []
    },
    {
      "cell_type": "code",
      "metadata": {
        "id": "nyL9ujszQmyH"
      },
      "source": [
        "# 3a. Hard Margin SVM implementation\n",
        "def hardMarginSVM(X: np.array, y: np.array) -> np.array:\n",
        "  n, d = np.shape(X)\n",
        "\n",
        "  # build Q matrix\n",
        "  Q = np.eye(d+1)\n",
        "  Q[0, 0] = 0\n",
        "  Q = matrix(Q)\n",
        "\n",
        "  # build p vector\n",
        "  p = matrix(np.zeros((d+1)))\n",
        "\n",
        "  # build A matrix\n",
        "  A = matrix(np.concatenate((y, y * X), axis=1), tc='d')\n",
        "\n",
        "  # build c vector\n",
        "  c = matrix(np.ones(n))\n",
        "\n",
        "  # use qp solve\n",
        "  return np.array(A), np.array(solvers.qp(P=Q, q=p, G=-A, h=-c)[\"x\"])"
      ],
      "execution_count": null,
      "outputs": []
    },
    {
      "cell_type": "code",
      "metadata": {
        "colab": {
          "base_uri": "https://localhost:8080/"
        },
        "id": "STj4Tm3kRpMu",
        "outputId": "d6638615-b665-4911-acdb-c6221754f330"
      },
      "source": [
        "# In Class Example:\n",
        "X = np.array([[0, 0], [2, 2], [2, 0], [3, 0]])\n",
        "y = np.array([[-1], [-1], [1], [1]])\n",
        "A, u = hardMarginSVM(X, y)\n",
        "print(\"Bias: \\n{}, \\nWeights: \\n{}\".format(u[0], u[1:]))\n",
        "print(\"A @ u: \\n{}\".format(A @ u))"
      ],
      "execution_count": null,
      "outputs": [
        {
          "output_type": "stream",
          "name": "stdout",
          "text": [
            "Bias: \n",
            "[-1.00000001], \n",
            "Weights: \n",
            "[[ 1.00000001]\n",
            " [-1.00000001]]\n",
            "A @ u: \n",
            "[[1.00000001]\n",
            " [1.00000002]\n",
            " [1.        ]\n",
            " [2.00000001]]\n"
          ]
        }
      ]
    },
    {
      "cell_type": "code",
      "metadata": {
        "colab": {
          "base_uri": "https://localhost:8080/"
        },
        "id": "YItC8c_tWovc",
        "outputId": "a3850991-ebb2-4c51-85a7-8aae7f2a2c6b"
      },
      "source": [
        "# Homework Problem:\n",
        "X = np.array([[0, 0], [0, -1], [-2, 0]])\n",
        "y = np.array([[-1], [-1], [1]])\n",
        "A, u = hardMarginSVM(X, y)\n",
        "print(\"Bias: \\n{}, \\nWeights: \\n{}\".format(u[0], u[1:]))\n",
        "print(\"A @ u: \\n{}\".format(A @ u))"
      ],
      "execution_count": null,
      "outputs": [
        {
          "output_type": "stream",
          "name": "stdout",
          "text": [
            "Bias: \n",
            "[-1.00000001], \n",
            "Weights: \n",
            "[[-1.00000001e+00]\n",
            " [ 3.93128191e-04]]\n",
            "A @ u: \n",
            "[[1.00000001]\n",
            " [1.00039314]\n",
            " [1.00000001]]\n"
          ]
        }
      ]
    },
    {
      "cell_type": "code",
      "metadata": {
        "id": "P_BNcQ8TbgzZ"
      },
      "source": [
        "# random numbers between 1 and 1000 as possible values\n",
        "def generateData(sampleSize: int, features: int) -> list:\n",
        "  return [[random.randint(1, 1000) for i in range(features)] for j in range(sampleSize)]\n",
        "\n",
        "# use linear seperator x[0] >= 500 to classify classes\n",
        "def generateLabels(dataset: list) -> list:\n",
        "  return [[1] if sample[0] >= 500 else [-1] for sample in dataset]"
      ],
      "execution_count": null,
      "outputs": []
    },
    {
      "cell_type": "code",
      "metadata": {
        "colab": {
          "base_uri": "https://localhost:8080/"
        },
        "id": "kg1kG0Wbl_jW",
        "outputId": "7770f2dc-f5aa-4dcc-cd70-21f8f609f1d6"
      },
      "source": [
        "# 3b. Time Complexity Investigation\n",
        "dataset = generateData(10, 2)\n",
        "labels = generateLabels(dataset)\n",
        "SAMPLE_SIZES = [10, 100, 1000, 10000, 100000, 1000000]\n",
        "FEATURE_SIZES = [10, 100, 1000, 10000]\n",
        "\n",
        "# Sample Size\n",
        "for i in SAMPLE_SIZES:\n",
        "  print(\"Sample Size: {}\".format(i))\n",
        "  X = np.array(generateData(i, FEATURE_SIZES[0]))\n",
        "  y = generateLabels(X)\n",
        "\n",
        "  t = time.time()\n",
        "  A, u = hardMarginSVM(X, y)\n",
        "  print(\"Runtime: {:.4f}\".format(time.time() - t))\n",
        "\n",
        "# Feature Size\n",
        "for i in FEATURE_SIZES:\n",
        "  print(\"Feature Size: {}\".format(i))\n",
        "  X = np.array(generateData(SAMPLE_SIZES[0], i))\n",
        "  y = generateLabels(X)\n",
        "\n",
        "  t = time.time()\n",
        "  A, u = hardMarginSVM(X, y)\n",
        "  print(\"Runtime: {:.4f}\".format(time.time() - t))"
      ],
      "execution_count": null,
      "outputs": [
        {
          "output_type": "stream",
          "name": "stdout",
          "text": [
            "Sample Size: 10\n",
            "Runtime: 0.0079\n",
            "Sample Size: 100\n",
            "Runtime: 0.0055\n",
            "Sample Size: 1000\n",
            "Runtime: 0.0196\n",
            "Sample Size: 10000\n",
            "Runtime: 0.2222\n",
            "Sample Size: 100000\n",
            "Runtime: 4.0301\n",
            "Sample Size: 1000000\n",
            "Runtime: 20.5474\n",
            "Feature Size: 10\n",
            "Runtime: 0.0159\n",
            "Feature Size: 100\n",
            "Runtime: 0.0041\n",
            "Feature Size: 1000\n",
            "Runtime: 0.2485\n",
            "Feature Size: 10000\n",
            "Runtime: 72.6673\n"
          ]
        }
      ]
    },
    {
      "cell_type": "code",
      "metadata": {
        "id": "jOO3pBpZmLdG"
      },
      "source": [
        ""
      ],
      "execution_count": null,
      "outputs": []
    }
  ]
}